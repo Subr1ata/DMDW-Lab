{
  "nbformat": 4,
  "nbformat_minor": 0,
  "metadata": {
    "colab": {
      "name": "18cse042_Assignment-1.ipynb",
      "provenance": [],
      "authorship_tag": "ABX9TyOp4zkjzT9Aej8cQCoP6+ON",
      "include_colab_link": true
    },
    "kernelspec": {
      "name": "python3",
      "display_name": "Python 3"
    }
  },
  "cells": [
    {
      "cell_type": "markdown",
      "metadata": {
        "id": "view-in-github",
        "colab_type": "text"
      },
      "source": [
        "<a href=\"https://colab.research.google.com/github/Subr1ata/DMDW-Lab/blob/main/18cse042_Assignment_1.ipynb\" target=\"_parent\"><img src=\"https://colab.research.google.com/assets/colab-badge.svg\" alt=\"Open In Colab\"/></a>"
      ]
    },
    {
      "cell_type": "code",
      "metadata": {
        "id": "QQYgh6Bn3-Yy",
        "outputId": "b9e89fa6-a242-4aed-8c7a-c6a3e9dcb136",
        "colab": {
          "base_uri": "https://localhost:8080/"
        }
      },
      "source": [
        "#Mean without using library\n",
        "lis = [1,2,3,4,5,6,7,8,9,10] \n",
        "n = len(lis) \n",
        "s = sum(lis) \n",
        "m = s / n  \n",
        "print(\"Mean is: \" + str(m))"
      ],
      "execution_count": null,
      "outputs": [
        {
          "output_type": "stream",
          "text": [
            "Mean is: 5.5\n"
          ],
          "name": "stdout"
        }
      ]
    },
    {
      "cell_type": "code",
      "metadata": {
        "id": "SkRujrHWXTK4",
        "outputId": "2ac76612-d8aa-4c57-ecdc-9d4fef17e8b3",
        "colab": {
          "base_uri": "https://localhost:8080/"
        }
      },
      "source": [
        "#Median without using library\n",
        "lis = [1,2,3,4,5,6,7,8,9,10] \n",
        "n = len(lis) \n",
        "lis.sort()\n",
        "if n % 2 == 0: \n",
        "    m1 = lis[n//2] \n",
        "    m2 = lis[n//2 - 1] \n",
        "    m = (m1 + m2)/2\n",
        "else: \n",
        "    m = lis[n//2] \n",
        "print(\"Median is: \" + str(m))"
      ],
      "execution_count": null,
      "outputs": [
        {
          "output_type": "stream",
          "text": [
            "Median is: 5.5\n"
          ],
          "name": "stdout"
        }
      ]
    },
    {
      "cell_type": "code",
      "metadata": {
        "id": "TrK0AcbgXZw1",
        "outputId": "77bf4941-c126-4cb0-acf0-2c27622a0caf",
        "colab": {
          "base_uri": "https://localhost:8080/"
        }
      },
      "source": [
        "#Mode without using library\n",
        "import collections\n",
        "lis = [21, 13, 19, 13,19,13]\n",
        "# print(lis)\n",
        "data = collections.Counter(lis)\n",
        "data_list = dict(data)\n",
        "# print(data_list)\n",
        "max_value = max(list(data.values()))\n",
        "mode_val = [n for n, freq in data_list.items() if freq == max_value]\n",
        "if len(mode_val) == len(num_list):\n",
        "   print(\"No mode in the list\")\n",
        "else:\n",
        "   print(\"The Mode of the list is : \" + ', '.join(map(str, mode_val)))"
      ],
      "execution_count": null,
      "outputs": [
        {
          "output_type": "stream",
          "text": [
            "The Mode of the list is : 13\n"
          ],
          "name": "stdout"
        }
      ]
    },
    {
      "cell_type": "code",
      "metadata": {
        "id": "mgh2c-6hXe2r",
        "outputId": "a4c8e156-ae6c-42ea-ebc3-6645556f2a4b",
        "colab": {
          "base_uri": "https://localhost:8080/"
        }
      },
      "source": [
        "# mean, median, mode, standard deviation and variance using library.\n",
        "import numpy\n",
        "from scipy import stats\n",
        "lis = [77, 78, 85, 86, 86, 86, 87, 87, 94, 98, 99, 103]\n",
        "print('Mean :',str(numpy.mean(lis)))\n",
        "print('Median :',str(numpy.median(lis)))\n",
        "print('Mode :',str(stats.mode(lis)))\n",
        "print('Std deviation :',str(numpy.std(lis)))\n",
        "print('Variance :',str(numpy.var(lis)))"
      ],
      "execution_count": null,
      "outputs": [
        {
          "output_type": "stream",
          "text": [
            "Mean : 88.83333333333333\n",
            "Median : 86.5\n",
            "Mode : ModeResult(mode=array([86]), count=array([3]))\n",
            "Std deviation : 7.733405172080121\n",
            "Variance : 59.805555555555564\n"
          ],
          "name": "stdout"
        }
      ]
    }
  ]
}